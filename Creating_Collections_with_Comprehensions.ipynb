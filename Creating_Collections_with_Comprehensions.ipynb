{
  "nbformat": 4,
  "nbformat_minor": 0,
  "metadata": {
    "colab": {
      "provenance": [],
      "authorship_tag": "ABX9TyP7q83ResAwjRi5sBbi8kIh",
      "include_colab_link": true
    },
    "kernelspec": {
      "name": "python3",
      "display_name": "Python 3"
    },
    "language_info": {
      "name": "python"
    }
  },
  "cells": [
    {
      "cell_type": "markdown",
      "metadata": {
        "id": "view-in-github",
        "colab_type": "text"
      },
      "source": [
        "<a href=\"https://colab.research.google.com/github/bulentsoykan/my-notes/blob/main/Creating_Collections_with_Comprehensions.ipynb\" target=\"_parent\"><img src=\"https://colab.research.google.com/assets/colab-badge.svg\" alt=\"Open In Colab\"/></a>"
      ]
    },
    {
      "cell_type": "markdown",
      "source": [
        "# Creating Collections with Comprehensions"
      ],
      "metadata": {
        "id": "xqN2WG2HpPxG"
      }
    },
    {
      "cell_type": "markdown",
      "source": [
        "List comprehension"
      ],
      "metadata": {
        "id": "S7c7qppQpURO"
      }
    },
    {
      "cell_type": "code",
      "source": [
        "squares = []\n",
        "for i in range(6):\n",
        "  squares.append(i*i)\n",
        "squares"
      ],
      "metadata": {
        "colab": {
          "base_uri": "https://localhost:8080/"
        },
        "id": "RE3giM-hqMUP",
        "outputId": "eb01c016-02ce-4625-f80e-d24bc3e66595"
      },
      "execution_count": 3,
      "outputs": [
        {
          "output_type": "execute_result",
          "data": {
            "text/plain": [
              "[0, 1, 4, 9, 16, 25]"
            ]
          },
          "metadata": {},
          "execution_count": 3
        }
      ]
    },
    {
      "cell_type": "code",
      "execution_count": 4,
      "metadata": {
        "colab": {
          "base_uri": "https://localhost:8080/"
        },
        "id": "k_yAo0XHpMpc",
        "outputId": "b3948b1b-6ec1-496e-cefe-05428446d747"
      },
      "outputs": [
        {
          "output_type": "execute_result",
          "data": {
            "text/plain": [
              "[0, 1, 4, 9, 16, 25]"
            ]
          },
          "metadata": {},
          "execution_count": 4
        }
      ],
      "source": [
        "squares = [n*n for n in range(6) ]\n",
        "squares"
      ]
    },
    {
      "cell_type": "markdown",
      "source": [
        "Dictionary comprehension"
      ],
      "metadata": {
        "id": "M8gqFjEGqulg"
      }
    },
    {
      "cell_type": "code",
      "source": [
        "blocks = {}\n",
        "for n in range(6):\n",
        "  blocks[n] = n * \"x\"\n",
        "blocks"
      ],
      "metadata": {
        "colab": {
          "base_uri": "https://localhost:8080/"
        },
        "id": "ZXHfZRYWq_4A",
        "outputId": "5175aeaf-3896-4186-fdc5-bbde78d48446"
      },
      "execution_count": 7,
      "outputs": [
        {
          "output_type": "execute_result",
          "data": {
            "text/plain": [
              "{0: '', 1: 'x', 2: 'xx', 3: 'xxx', 4: 'xxxx', 5: 'xxxxx'}"
            ]
          },
          "metadata": {},
          "execution_count": 7
        }
      ]
    },
    {
      "cell_type": "code",
      "source": [
        "blocks = {n: \"x\" *n for n in range(6)}\n",
        "blocks"
      ],
      "metadata": {
        "colab": {
          "base_uri": "https://localhost:8080/"
        },
        "id": "o3goRLc5qGpn",
        "outputId": "40db1daa-2be4-42be-eac1-4657b0d35883"
      },
      "execution_count": 5,
      "outputs": [
        {
          "output_type": "execute_result",
          "data": {
            "text/plain": [
              "{0: '', 1: 'x', 2: 'xx', 3: 'xxx', 4: 'xxxx', 5: 'xxxxx'}"
            ]
          },
          "metadata": {},
          "execution_count": 5
        }
      ]
    },
    {
      "cell_type": "markdown",
      "source": [
        "## List Comprehensions"
      ],
      "metadata": {
        "id": "zk0AeaNOsKt0"
      }
    },
    {
      "cell_type": "code",
      "source": [
        "type(squares)"
      ],
      "metadata": {
        "colab": {
          "base_uri": "https://localhost:8080/"
        },
        "id": "OnukQpqZq9HN",
        "outputId": "ea749549-c334-4780-e4eb-15b648fee164"
      },
      "execution_count": 8,
      "outputs": [
        {
          "output_type": "execute_result",
          "data": {
            "text/plain": [
              "list"
            ]
          },
          "metadata": {},
          "execution_count": 8
        }
      ]
    },
    {
      "cell_type": "code",
      "source": [
        "pets = [\"dog\", \"parakeet\", \"cat\", \"llama\"]\n",
        "pets"
      ],
      "metadata": {
        "colab": {
          "base_uri": "https://localhost:8080/"
        },
        "id": "5ghF9MXMsSY8",
        "outputId": "8d33e9e0-03a7-4e76-d30b-2aa16b7edf53"
      },
      "execution_count": 9,
      "outputs": [
        {
          "output_type": "execute_result",
          "data": {
            "text/plain": [
              "['dog', 'parakeet', 'cat', 'llama']"
            ]
          },
          "metadata": {},
          "execution_count": 9
        }
      ]
    },
    {
      "cell_type": "code",
      "source": [
        "numbers = [ 9, -1, -4, 20, 11, -3 ]\n",
        "numbers"
      ],
      "metadata": {
        "colab": {
          "base_uri": "https://localhost:8080/"
        },
        "id": "82sYxnqhs0_b",
        "outputId": "80f7c939-d123-41ad-9957-6da136d9fdd9"
      },
      "execution_count": 10,
      "outputs": [
        {
          "output_type": "execute_result",
          "data": {
            "text/plain": [
              "[9, -1, -4, 20, 11, -3]"
            ]
          },
          "metadata": {},
          "execution_count": 10
        }
      ]
    },
    {
      "cell_type": "code",
      "source": [
        "def repeat(s):\n",
        "  return s+s"
      ],
      "metadata": {
        "id": "XXO_HyH1s5eY"
      },
      "execution_count": 16,
      "outputs": []
    },
    {
      "cell_type": "code",
      "source": [
        "[2*m+3 for m in range(10,20,2)]"
      ],
      "metadata": {
        "colab": {
          "base_uri": "https://localhost:8080/"
        },
        "id": "DegbYuEKs-3v",
        "outputId": "a6b0e730-e00b-4a48-b22f-d944f317cd0a"
      },
      "execution_count": 12,
      "outputs": [
        {
          "output_type": "execute_result",
          "data": {
            "text/plain": [
              "[23, 27, 31, 35, 39]"
            ]
          },
          "metadata": {},
          "execution_count": 12
        }
      ]
    },
    {
      "cell_type": "code",
      "source": [
        "[pet.upper() for pet in pets]"
      ],
      "metadata": {
        "colab": {
          "base_uri": "https://localhost:8080/"
        },
        "id": "k-tGLg_GtHoq",
        "outputId": "c7c770fc-904c-4b12-d242-6c292196c1d7"
      },
      "execution_count": 14,
      "outputs": [
        {
          "output_type": "execute_result",
          "data": {
            "text/plain": [
              "['DOG', 'PARAKEET', 'CAT', 'LLAMA']"
            ]
          },
          "metadata": {},
          "execution_count": 14
        }
      ]
    },
    {
      "cell_type": "code",
      "source": [
        "[repeat(pet) for pet in pets]"
      ],
      "metadata": {
        "colab": {
          "base_uri": "https://localhost:8080/"
        },
        "id": "WjcGsD2WtTJ9",
        "outputId": "0e2faad6-71ae-4ad5-a814-b1412b737e8a"
      },
      "execution_count": 17,
      "outputs": [
        {
          "output_type": "execute_result",
          "data": {
            "text/plain": [
              "['dogdog', 'parakeetparakeet', 'catcat', 'llamallama']"
            ]
          },
          "metadata": {},
          "execution_count": 17
        }
      ]
    },
    {
      "cell_type": "code",
      "source": [
        "[n for n in numbers if n>0]"
      ],
      "metadata": {
        "colab": {
          "base_uri": "https://localhost:8080/"
        },
        "id": "SywXasqxtc-c",
        "outputId": "266efd7f-225c-4382-f2d7-7a8bb5a0adf5"
      },
      "execution_count": 18,
      "outputs": [
        {
          "output_type": "execute_result",
          "data": {
            "text/plain": [
              "[9, 20, 11]"
            ]
          },
          "metadata": {},
          "execution_count": 18
        }
      ]
    },
    {
      "cell_type": "markdown",
      "source": [
        "**A list comprehension must always have the for keyword**"
      ],
      "metadata": {
        "id": "CF-Ujtj4uNds"
      }
    },
    {
      "cell_type": "code",
      "source": [
        "def is_valid(number):\n",
        "  return number >0 or number %2==0"
      ],
      "metadata": {
        "id": "0IMgN9CauMkh"
      },
      "execution_count": 19,
      "outputs": []
    },
    {
      "cell_type": "code",
      "source": [
        "[n for n in numbers if is_valid(n)]"
      ],
      "metadata": {
        "colab": {
          "base_uri": "https://localhost:8080/"
        },
        "id": "0VOthG8kt_29",
        "outputId": "a6ece7fb-1541-494c-d74f-e3de2b56d7c0"
      },
      "execution_count": 20,
      "outputs": [
        {
          "output_type": "execute_result",
          "data": {
            "text/plain": [
              "[9, -4, 20, 11]"
            ]
          },
          "metadata": {},
          "execution_count": 20
        }
      ]
    },
    {
      "cell_type": "markdown",
      "source": [
        "# Generator Expressions"
      ],
      "metadata": {
        "id": "D23tKbLDz1Dd"
      }
    },
    {
      "cell_type": "code",
      "source": [
        "generated_sources = (n*n for n in range(10_000_000))\n",
        "generated_sources"
      ],
      "metadata": {
        "colab": {
          "base_uri": "https://localhost:8080/"
        },
        "id": "s9ixx3xgyQsV",
        "outputId": "6084b661-e249-47bc-d926-11e1fcd146af"
      },
      "execution_count": 21,
      "outputs": [
        {
          "output_type": "execute_result",
          "data": {
            "text/plain": [
              "<generator object <genexpr> at 0x7863c064c7b0>"
            ]
          },
          "metadata": {},
          "execution_count": 21
        }
      ]
    },
    {
      "cell_type": "code",
      "source": [
        "def generate_squares(limit):\n",
        "  for i in range(limit):\n",
        "    yield n*n\n",
        "\n",
        "many_squares = generate_squares(10_000_000)\n",
        "many_squares"
      ],
      "metadata": {
        "colab": {
          "base_uri": "https://localhost:8080/"
        },
        "id": "DHtPL18d0Mp1",
        "outputId": "8d959957-8f46-4080-a858-021e2445ad9f"
      },
      "execution_count": 22,
      "outputs": [
        {
          "output_type": "execute_result",
          "data": {
            "text/plain": [
              "<generator object generate_squares at 0x7863c064c890>"
            ]
          },
          "metadata": {},
          "execution_count": 22
        }
      ]
    },
    {
      "cell_type": "markdown",
      "source": [
        "# Understanding Generator Expressions vs. List Comprehensions\n",
        "\n",
        "Generator expressions and list comprehensions are powerful tools for creating sequences in Python, but their use cases and characteristics differ. By understanding their nuances, you can write more efficient and readable code.\n",
        "\n",
        "## **List Comprehensions as a Derivative**\n",
        "- List comprehensions can be thought of as a derivative of generator expressions.\n",
        "- The same mental model applies to **dictionary** and **set comprehensions**.\n",
        "- Even though Python doesn't treat them as generator-based internally, this analogy aligns well with Python’s semantics.\n",
        "\n",
        "## **Choosing Between Generators and Lists**\n",
        "\n",
        "### **Advantages of Generator Expressions**\n",
        "- **Memory Efficiency**: Generators produce items lazily (on demand), making them ideal for large data sequences. This improves **scalability** and **responsiveness**.\n",
        "- **Performance**: For large datasets (e.g., thousands of elements or more), avoiding the memory overhead of lists is beneficial.\n",
        "\n",
        "### **When to Use List Comprehensions Instead**\n",
        "1. **When You Need a List**:  \n",
        "   - If random access, multiple iterations, or modifications (e.g., appending, removing) are required, a generator won’t suffice.\n",
        "   - Example:\n",
        "     ```python\n",
        "     my_list = [x**2 for x in range(10)]  # Allows random access or indexing\n",
        "     my_list[2] = 100\n",
        "     ```\n",
        "\n",
        "2. **For Function Return Values**:  \n",
        "   - While a generator can always be converted to a list (`list(generator)`), returning a list directly is more practical for most cases.\n",
        "   - Example:\n",
        "     ```python\n",
        "     def get_squares():\n",
        "         return [x**2 for x in range(10)]  # Returns an actual list\n",
        "     ```\n",
        "\n",
        "3. **Ease of Use**:  \n",
        "   - Generators may confuse less experienced developers. Lists are more universally understood.\n",
        "\n",
        "### **Scenarios Favoring Generators**\n",
        "- For long-running or streaming data where only one pass through the sequence is needed.\n",
        "- Example:\n",
        "  ```python\n",
        "  squares = (x**2 for x in range(1000000))  # No memory overhead for large ranges\n",
        "  for square in squares:\n",
        "      print(square)\n"
      ],
      "metadata": {
        "id": "TXuW0-5F3fgD"
      }
    },
    {
      "cell_type": "markdown",
      "source": [
        "Comprehensions are a useful tool for readable, maintainable Python. Their sensible\n",
        "succinctness and high-level, declarative nature make them easy to write, easy to read,\n",
        "and easy to maintain."
      ],
      "metadata": {
        "id": "2e8kl6Xc5UJd"
      }
    }
  ]
}